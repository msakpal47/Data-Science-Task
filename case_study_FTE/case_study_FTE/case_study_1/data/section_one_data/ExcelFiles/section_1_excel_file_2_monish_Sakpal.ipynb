{
 "cells": [
  {
   "cell_type": "code",
   "execution_count": 18,
   "id": "47779697-4370-4417-9f9e-fb30f02c1326",
   "metadata": {},
   "outputs": [
    {
     "name": "stderr",
     "output_type": "stream",
     "text": [
      "C:\\Users\\FINRISE\\AppData\\Local\\Temp\\ipykernel_16288\\3271243886.py:36: FutureWarning: Setting an item of incompatible dtype is deprecated and will raise an error in a future version of pandas. Value '[]' has dtype incompatible with float64, please explicitly cast to a compatible dtype first.\n",
      "  df.loc[update_mask, 'extracted_dollar'] = matches[update_mask]\n",
      "C:\\Users\\FINRISE\\AppData\\Local\\Temp\\ipykernel_16288\\3271243886.py:36: FutureWarning: Setting an item of incompatible dtype is deprecated and will raise an error in a future version of pandas. Value '[]' has dtype incompatible with float64, please explicitly cast to a compatible dtype first.\n",
      "  df.loc[update_mask, 'extracted_dollar'] = matches[update_mask]\n",
      "C:\\Users\\FINRISE\\AppData\\Local\\Temp\\ipykernel_16288\\3271243886.py:36: FutureWarning: Setting an item of incompatible dtype is deprecated and will raise an error in a future version of pandas. Value '[]' has dtype incompatible with float64, please explicitly cast to a compatible dtype first.\n",
      "  df.loc[update_mask, 'extracted_dollar'] = matches[update_mask]\n",
      "C:\\Users\\FINRISE\\AppData\\Local\\Temp\\ipykernel_16288\\3271243886.py:36: FutureWarning: Setting an item of incompatible dtype is deprecated and will raise an error in a future version of pandas. Value '[]' has dtype incompatible with float64, please explicitly cast to a compatible dtype first.\n",
      "  df.loc[update_mask, 'extracted_dollar'] = matches[update_mask]\n"
     ]
    },
    {
     "name": "stdout",
     "output_type": "stream",
     "text": [
      "\n",
      "### 💵 Dollar Value Summary for Cyber Liability Standard Loss Run_DF453172.xlsx\n",
      "- **Total rows with dollar values:** 0\n",
      "- **Extracted from columns:** None found\n",
      "\n",
      "### 💵 Dollar Value Summary for LedgerDetails.xlsx\n",
      "- **Total rows with dollar values:** 0\n",
      "- **Extracted from columns:** None found\n",
      "\n",
      "### 💵 Dollar Value Summary for LedgerDetails_2.xlsx\n",
      "- **Total rows with dollar values:** 0\n",
      "- **Extracted from columns:** None found\n",
      "\n",
      "### 💵 Dollar Value Summary for MatterDetails_CompanyX.xlsx\n",
      "- **Total rows with dollar values:** 3\n",
      "- **Extracted from columns:** ['unnamed_9']\n",
      "\n",
      "### 💵 Dollar Value Summary for PolicyDetails.xlsx\n",
      "- **Total rows with dollar values:** 0\n",
      "- **Extracted from columns:** None found\n"
     ]
    },
    {
     "name": "stderr",
     "output_type": "stream",
     "text": [
      "C:\\Users\\FINRISE\\AppData\\Local\\Temp\\ipykernel_16288\\3271243886.py:36: FutureWarning: Setting an item of incompatible dtype is deprecated and will raise an error in a future version of pandas. Value '[]' has dtype incompatible with float64, please explicitly cast to a compatible dtype first.\n",
      "  df.loc[update_mask, 'extracted_dollar'] = matches[update_mask]\n"
     ]
    }
   ],
   "source": [
    "import pandas as pd\n",
    "import numpy as np\n",
    "import glob\n",
    "import os\n",
    "\n",
    "# Define path to Excel files\n",
    "file_path = r'C:\\Users\\FINRISE\\Desktop\\Task data scie\\case_study_FTE\\case_study_FTE\\case_study_1\\data\\section_one_data\\ExcelFiles\\*.xlsx'\n",
    "\n",
    "# Define directory to save cleaned files\n",
    "save_dir = r'C:\\Users\\FINRISE\\Desktop\\Task data scie\\case_study_FTE\\case_study_FTE\\case_study_1\\data\\section_one_data\\ExcelFiles\\After_cleaning files'\n",
    "os.makedirs(save_dir, exist_ok=True)\n",
    "\n",
    "# Regex pattern to find dollar values like $1,000.00 or $500\n",
    "dollar_pattern = r\"\\$\\s*\\d+(?:,\\d{3})*(?:\\.\\d{2})?\"\n",
    "\n",
    "# Loop through Excel files\n",
    "for file in glob.glob(file_path):\n",
    "    df_name = os.path.basename(file)\n",
    "    df = pd.read_excel(file)\n",
    "\n",
    "    # Standardize column names\n",
    "    df.columns = df.columns.str.lower().str.replace(' ', '_').str.replace(r'[^\\w_]', '', regex=True)\n",
    "\n",
    "    # Create new column to store extracted dollar values\n",
    "    df['extracted_dollar'] = np.nan\n",
    "    dollar_cols = []\n",
    "\n",
    "    # Check each column for dollar values (convert to string safely)\n",
    "    for col in df.columns:\n",
    "        if df[col].dtype == 'object' or pd.api.types.is_string_dtype(df[col]):\n",
    "            col_as_str = df[col].astype(str)\n",
    "            matches = col_as_str.str.extract(f\"({dollar_pattern})\", expand=False)\n",
    "\n",
    "            # Only update where new match is found and previous extracted_dollar is still null\n",
    "            update_mask = matches.notna() & df['extracted_dollar'].isna()\n",
    "            df.loc[update_mask, 'extracted_dollar'] = matches[update_mask]\n",
    "            if update_mask.sum() > 0:\n",
    "                dollar_cols.append(col)\n",
    "\n",
    "    # Count rows where dollar values were identified\n",
    "    dollar_rows_count = df['extracted_dollar'].notna().sum()\n",
    "\n",
    "    # Clean and convert dollar strings to numeric values\n",
    "    df['extracted_dollar_numeric'] = (\n",
    "        df['extracted_dollar']\n",
    "        .astype(str)\n",
    "        .str.replace(r\"[$,\\s]\", \"\", regex=True)\n",
    "        .replace(\"\", np.nan)\n",
    "        .astype(float)\n",
    "    )\n",
    "\n",
    "    # Markdown-style summary\n",
    "    print(f\"\\n### 💵 Dollar Value Summary for {df_name}\")\n",
    "    print(f\"- **Total rows with dollar values:** {dollar_rows_count}\")\n",
    "    print(f\"- **Extracted from columns:** {dollar_cols if dollar_cols else 'None found'}\")\n",
    "\n",
    "    # Save cleaned file\n",
    "    cleaned_file_name = os.path.join(save_dir, f\"cleaned_{df_name}\")\n",
    "    df.to_excel(cleaned_file_name, index=False)\n"
   ]
  },
  {
   "cell_type": "code",
   "execution_count": null,
   "id": "0b2d20bc-94dd-4475-afbb-29bba45c10ce",
   "metadata": {},
   "outputs": [],
   "source": []
  },
  {
   "cell_type": "code",
   "execution_count": null,
   "id": "c7d5df55-aeb3-4edc-8753-72b5a7bbeaac",
   "metadata": {},
   "outputs": [],
   "source": []
  }
 ],
 "metadata": {
  "kernelspec": {
   "display_name": "Python 3 (ipykernel)",
   "language": "python",
   "name": "python3"
  },
  "language_info": {
   "codemirror_mode": {
    "name": "ipython",
    "version": 3
   },
   "file_extension": ".py",
   "mimetype": "text/x-python",
   "name": "python",
   "nbconvert_exporter": "python",
   "pygments_lexer": "ipython3",
   "version": "3.13.2"
  }
 },
 "nbformat": 4,
 "nbformat_minor": 5
}
