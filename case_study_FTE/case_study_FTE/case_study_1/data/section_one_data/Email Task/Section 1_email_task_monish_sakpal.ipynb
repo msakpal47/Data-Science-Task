{
 "cells": [
  {
   "cell_type": "markdown",
   "id": "8e143eb2-11b9-4892-b06e-b02d84a9d153",
   "metadata": {},
   "source": [
    "1. Import Libraries"
   ]
  },
  {
   "cell_type": "code",
   "execution_count": 90,
   "id": "10ffe5f1-ccc7-4dd0-9b8e-4237f585c396",
   "metadata": {},
   "outputs": [],
   "source": [
    "import pandas as pd\n",
    "import os\n",
    "import re\n",
    "from datetime import datetime\n"
   ]
  },
  {
   "cell_type": "markdown",
   "id": "4ad312c9-b18c-4504-9ea9-c7e99448fe58",
   "metadata": {},
   "source": [
    "2. Load the Excel File\n"
   ]
  },
  {
   "cell_type": "code",
   "execution_count": 91,
   "id": "7ad3081d-8e15-44f6-a4f0-0e1b4d42c223",
   "metadata": {},
   "outputs": [],
   "source": [
    "# Define file path\n",
    "file_path = r'C:\\Users\\FINRISE\\Desktop\\Task data scie\\case_study_FTE\\case_study_FTE\\case_study_1\\data\\section_one_data\\Emails_CS.xlsx'\n"
   ]
  },
  {
   "cell_type": "code",
   "execution_count": 92,
   "id": "a63fb652-6947-4dfa-9c31-c2668070c37b",
   "metadata": {},
   "outputs": [
    {
     "data": {
      "text/plain": [
       "'C:\\\\Users\\\\FINRISE\\\\Desktop\\\\Task data scie\\\\case_study_FTE\\\\case_study_FTE\\\\case_study_1\\\\data\\\\section_one_data\\\\Emails_CS.xlsx'"
      ]
     },
     "execution_count": 92,
     "metadata": {},
     "output_type": "execute_result"
    }
   ],
   "source": [
    "file_path"
   ]
  },
  {
   "cell_type": "code",
   "execution_count": 93,
   "id": "3082fbac-41ee-4ff5-94e6-dfeaeeea1371",
   "metadata": {},
   "outputs": [
    {
     "name": "stdout",
     "output_type": "stream",
     "text": [
      "Initial shape: (2036, 8)\n"
     ]
    }
   ],
   "source": [
    "# Read Excel file\n",
    "email_data = pd.read_excel(file_path)\n",
    "print(\"Initial shape:\", email_data.shape)\n"
   ]
  },
  {
   "cell_type": "code",
   "execution_count": 94,
   "id": "ed7dbb16-7460-4368-b206-2eb9aff1330c",
   "metadata": {},
   "outputs": [],
   "source": [
    "# Remove duplicates\n",
    "email_data.drop_duplicates(inplace=True)"
   ]
  },
  {
   "cell_type": "code",
   "execution_count": 95,
   "id": "3da8392a-20fa-46f9-b03b-87dffc9166b9",
   "metadata": {},
   "outputs": [],
   "source": [
    "# Drop rows with missing important values\n",
    "email_data.dropna(subset=['file_name', 'file_creation_date'], inplace=True)\n"
   ]
  },
  {
   "cell_type": "code",
   "execution_count": 96,
   "id": "60a35666-bcdd-4252-b9a2-a100c5a8b3d7",
   "metadata": {},
   "outputs": [],
   "source": [
    "# Convert 'file_creation_date' to datetime\n",
    "email_data['file_creation_date'] = pd.to_datetime(email_data['file_creation_date'], errors='coerce')\n"
   ]
  },
  {
   "cell_type": "code",
   "execution_count": 97,
   "id": "8afbf89f-8140-47c2-b562-b52571dd5254",
   "metadata": {},
   "outputs": [],
   "source": [
    "# Drop rows with invalid dates\n",
    "email_data.dropna(subset=['file_creation_date'], inplace=True)\n"
   ]
  },
  {
   "cell_type": "code",
   "execution_count": 98,
   "id": "b4af9caa-1471-491b-a57a-026720c57991",
   "metadata": {},
   "outputs": [],
   "source": [
    "# Extract file extension if missing\n",
    "if 'file_extension' not in email_data.columns:\n",
    "    email_data['file_extension'] = email_data['file_name'].apply(\n",
    "        lambda x: os.path.splitext(x)[1].replace('.', '') if pd.notnull(x) else '')\n"
   ]
  },
  {
   "cell_type": "code",
   "execution_count": 99,
   "id": "a8ea3984-e5f6-42b0-b0dc-647c22143a28",
   "metadata": {},
   "outputs": [],
   "source": [
    "# Add any missing required columns with placeholder data\n",
    "required_cols = ['file_name', 'file_content', 'file_id', 'folder_id',\n",
    "                 'file_extension', 'file_creation_date', 'file_subtype', 'created_by']\n"
   ]
  },
  {
   "cell_type": "code",
   "execution_count": 100,
   "id": "80bf6a1a-0957-49ba-9ba2-0ad70dd72b82",
   "metadata": {},
   "outputs": [],
   "source": [
    "for col in required_cols:\n",
    "    if col not in email_data.columns:\n",
    "        email_data[col] = 'N/A'\n"
   ]
  },
  {
   "cell_type": "code",
   "execution_count": 101,
   "id": "cdd5de3c-f9b0-4bd0-8588-c1a6abca959e",
   "metadata": {},
   "outputs": [],
   "source": [
    "# Reorder the columns\n",
    "email_data = email_data[required_cols]\n"
   ]
  },
  {
   "cell_type": "code",
   "execution_count": 102,
   "id": "17dc97e2-937c-421b-8967-c5c3e802562b",
   "metadata": {},
   "outputs": [],
   "source": [
    "# Function to extract dollar amounts from text\n",
    "def extract_dollar_amount(text):\n",
    "    amounts = re.findall(r'\\$\\d+(?:,\\d{3})*(?:\\.\\d{2})?', str(text))\n",
    "    return amounts[0] if amounts else None\n"
   ]
  },
  {
   "cell_type": "code",
   "execution_count": 103,
   "id": "b3d5c14a-2201-48bb-96d3-8d4d63cb49cd",
   "metadata": {},
   "outputs": [],
   "source": [
    "# Apply the function\n",
    "email_data['dollar_amount'] = email_data['file_content'].apply(extract_dollar_amount)\n"
   ]
  },
  {
   "cell_type": "code",
   "execution_count": 104,
   "id": "b6521013-1639-4b70-bb76-bf4dfbf851ea",
   "metadata": {},
   "outputs": [],
   "source": [
    "# Define output directory\n",
    "output_dir = r'C:\\Users\\FINRISE\\Desktop\\Task data scie\\case_study_FTE\\case_study_FTE\\case_study_1\\data\\section_one_data\\Email output'\n"
   ]
  },
  {
   "cell_type": "code",
   "execution_count": 105,
   "id": "216c2afe-ee5f-4fb7-b0f7-1af7cb3556c1",
   "metadata": {},
   "outputs": [],
   "source": [
    "# Ensure output directory exists\n",
    "os.makedirs(output_dir, exist_ok=True)\n"
   ]
  },
  {
   "cell_type": "code",
   "execution_count": 106,
   "id": "58f921c7-bac5-40dc-9352-97a838fba94a",
   "metadata": {},
   "outputs": [],
   "source": [
    "# Define full output file paths\n",
    "csv_file = os.path.join(output_dir, \"Cleaned_Emails_Metadata_with_Dollar_Amounts.csv\")\n",
    "excel_file = os.path.join(output_dir, \"Cleaned_Emails_Metadata_with_Dollar_Amounts.xlsx\")\n"
   ]
  },
  {
   "cell_type": "code",
   "execution_count": 107,
   "id": "32464b6a-2d8a-4647-baa7-bfbe147b1da0",
   "metadata": {},
   "outputs": [],
   "source": [
    "# Save files\n",
    "email_data.to_csv(csv_file, index=False)\n",
    "email_data.to_excel(excel_file, index=False)\n",
    "\n"
   ]
  },
  {
   "cell_type": "code",
   "execution_count": 108,
   "id": "f5dc46d1-424b-4ecd-8cd2-7a531f899786",
   "metadata": {},
   "outputs": [
    {
     "name": "stdout",
     "output_type": "stream",
     "text": [
      "Files saved successfully to:\n",
      "C:\\Users\\FINRISE\\Desktop\\Task data scie\\case_study_FTE\\case_study_FTE\\case_study_1\\data\\section_one_data\\Email output\\Cleaned_Emails_Metadata_with_Dollar_Amounts.csv\n",
      "C:\\Users\\FINRISE\\Desktop\\Task data scie\\case_study_FTE\\case_study_FTE\\case_study_1\\data\\section_one_data\\Email output\\Cleaned_Emails_Metadata_with_Dollar_Amounts.xlsx\n"
     ]
    }
   ],
   "source": [
    "print(\"Files saved successfully to:\")\n",
    "print(csv_file)\n",
    "print(excel_file)\n"
   ]
  },
  {
   "cell_type": "code",
   "execution_count": null,
   "id": "8b259095-111b-4671-9aed-f6dec566adbd",
   "metadata": {},
   "outputs": [],
   "source": []
  },
  {
   "cell_type": "code",
   "execution_count": null,
   "id": "537506c5-f135-4732-85d9-fae0facfd783",
   "metadata": {},
   "outputs": [],
   "source": []
  },
  {
   "cell_type": "code",
   "execution_count": null,
   "id": "fa168823-1b76-465c-993b-2f7b33215fe4",
   "metadata": {},
   "outputs": [],
   "source": []
  },
  {
   "cell_type": "code",
   "execution_count": null,
   "id": "224de557-0c07-4d7e-9e5e-e3463f26d1ba",
   "metadata": {},
   "outputs": [],
   "source": []
  },
  {
   "cell_type": "code",
   "execution_count": null,
   "id": "9c4a86de-08bb-4830-9565-3a011c0eeba0",
   "metadata": {},
   "outputs": [],
   "source": []
  },
  {
   "cell_type": "code",
   "execution_count": null,
   "id": "602cf1eb-0044-45d9-86c4-dd8bbb5bfa79",
   "metadata": {},
   "outputs": [],
   "source": []
  },
  {
   "cell_type": "code",
   "execution_count": null,
   "id": "18468b14-2752-492f-ac89-3f96d6356839",
   "metadata": {},
   "outputs": [],
   "source": []
  },
  {
   "cell_type": "code",
   "execution_count": null,
   "id": "c95532ed-8a69-492f-a057-31ab82bfc335",
   "metadata": {},
   "outputs": [],
   "source": []
  },
  {
   "cell_type": "code",
   "execution_count": null,
   "id": "1c72b91c-eb6c-4113-b976-5c20652be0e9",
   "metadata": {},
   "outputs": [],
   "source": []
  },
  {
   "cell_type": "code",
   "execution_count": null,
   "id": "5fe2462b-c7a9-45db-8d25-6b3bef8a40d0",
   "metadata": {},
   "outputs": [],
   "source": []
  },
  {
   "cell_type": "code",
   "execution_count": null,
   "id": "b883a399-cee0-45cf-8213-520c2df562d0",
   "metadata": {},
   "outputs": [],
   "source": []
  },
  {
   "cell_type": "code",
   "execution_count": null,
   "id": "4ea0bc21-c564-4aa5-b324-306f25b268b4",
   "metadata": {},
   "outputs": [],
   "source": []
  }
 ],
 "metadata": {
  "kernelspec": {
   "display_name": "Python 3 (ipykernel)",
   "language": "python",
   "name": "python3"
  },
  "language_info": {
   "codemirror_mode": {
    "name": "ipython",
    "version": 3
   },
   "file_extension": ".py",
   "mimetype": "text/x-python",
   "name": "python",
   "nbconvert_exporter": "python",
   "pygments_lexer": "ipython3",
   "version": "3.13.2"
  }
 },
 "nbformat": 4,
 "nbformat_minor": 5
}
